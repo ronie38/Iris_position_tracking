{
 "cells": [
  {
   "cell_type": "code",
   "execution_count": null,
   "id": "c7c29318",
   "metadata": {},
   "outputs": [],
   "source": [
    "import cv2\n",
    "  \n",
    "capture = cv2.VideoCapture(0)\n",
    "  \n",
    "while(True):\n",
    "      \n",
    "    ret, frame = capture.read()\n",
    " \n",
    "    grayFrame = cv2.cvtColor(frame, cv2.COLOR_BGR2GRAY)\n",
    " \n",
    "    cv2.imshow('video gray', grayFrame)\n",
    "    cv2.imshow('video original', frame)\n",
    "      \n",
    "    if cv2.waitKey(1) == 27:\n",
    "        break\n",
    "  \n",
    "capture.release()\n",
    "cv2.destroyAllWindows()"
   ]
  }
 ],
 "metadata": {
  "kernelspec": {
   "display_name": "Python 3 (ipykernel)",
   "language": "python",
   "name": "python3"
  },
  "language_info": {
   "codemirror_mode": {
    "name": "ipython",
    "version": 3
   },
   "file_extension": ".py",
   "mimetype": "text/x-python",
   "name": "python",
   "nbconvert_exporter": "python",
   "pygments_lexer": "ipython3",
   "version": "3.10.9"
  }
 },
 "nbformat": 4,
 "nbformat_minor": 5
}
