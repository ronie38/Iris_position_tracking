{
 "cells": [
  {
   "cell_type": "code",
   "execution_count": 1,
   "id": "0e3ab93a",
   "metadata": {},
   "outputs": [
    {
     "name": "stdout",
     "output_type": "stream",
     "text": [
      "Requirement already satisfied: mediapipe in c:\\users\\robin\\anaconda3\\lib\\site-packages (0.9.3.0)\n",
      "Requirement already satisfied: sounddevice>=0.4.4 in c:\\users\\robin\\anaconda3\\lib\\site-packages (from mediapipe) (0.4.6)\n",
      "Requirement already satisfied: numpy in c:\\users\\robin\\anaconda3\\lib\\site-packages (from mediapipe) (1.23.5)\n",
      "Requirement already satisfied: attrs>=19.1.0 in c:\\users\\robin\\anaconda3\\lib\\site-packages (from mediapipe) (22.1.0)\n",
      "Requirement already satisfied: protobuf<4,>=3.11 in c:\\users\\robin\\anaconda3\\lib\\site-packages (from mediapipe) (3.20.3)\n",
      "Requirement already satisfied: flatbuffers>=2.0 in c:\\users\\robin\\anaconda3\\lib\\site-packages (from mediapipe) (23.3.3)\n",
      "Requirement already satisfied: opencv-contrib-python in c:\\users\\robin\\anaconda3\\lib\\site-packages (from mediapipe) (4.7.0.72)\n",
      "Requirement already satisfied: absl-py in c:\\users\\robin\\anaconda3\\lib\\site-packages (from mediapipe) (1.4.0)\n",
      "Requirement already satisfied: matplotlib in c:\\users\\robin\\anaconda3\\lib\\site-packages (from mediapipe) (3.7.0)\n",
      "Requirement already satisfied: CFFI>=1.0 in c:\\users\\robin\\anaconda3\\lib\\site-packages (from sounddevice>=0.4.4->mediapipe) (1.15.1)\n",
      "Requirement already satisfied: python-dateutil>=2.7 in c:\\users\\robin\\appdata\\roaming\\python\\python310\\site-packages (from matplotlib->mediapipe) (2.8.2)\n",
      "Requirement already satisfied: cycler>=0.10 in c:\\users\\robin\\anaconda3\\lib\\site-packages (from matplotlib->mediapipe) (0.11.0)\n",
      "Requirement already satisfied: pyparsing>=2.3.1 in c:\\users\\robin\\anaconda3\\lib\\site-packages (from matplotlib->mediapipe) (3.0.9)\n",
      "Requirement already satisfied: contourpy>=1.0.1 in c:\\users\\robin\\anaconda3\\lib\\site-packages (from matplotlib->mediapipe) (1.0.5)\n",
      "Requirement already satisfied: fonttools>=4.22.0 in c:\\users\\robin\\anaconda3\\lib\\site-packages (from matplotlib->mediapipe) (4.25.0)\n",
      "Requirement already satisfied: pillow>=6.2.0 in c:\\users\\robin\\anaconda3\\lib\\site-packages (from matplotlib->mediapipe) (9.4.0)\n",
      "Requirement already satisfied: kiwisolver>=1.0.1 in c:\\users\\robin\\anaconda3\\lib\\site-packages (from matplotlib->mediapipe) (1.4.4)\n",
      "Requirement already satisfied: packaging>=20.0 in c:\\users\\robin\\appdata\\roaming\\python\\python310\\site-packages (from matplotlib->mediapipe) (23.1)\n",
      "Requirement already satisfied: pycparser in c:\\users\\robin\\anaconda3\\lib\\site-packages (from CFFI>=1.0->sounddevice>=0.4.4->mediapipe) (2.21)\n",
      "Requirement already satisfied: six>=1.5 in c:\\users\\robin\\appdata\\roaming\\python\\python310\\site-packages (from python-dateutil>=2.7->matplotlib->mediapipe) (1.16.0)\n",
      "Note: you may need to restart the kernel to use updated packages.\n"
     ]
    }
   ],
   "source": [
    "pip install mediapipe"
   ]
  },
  {
   "cell_type": "code",
   "execution_count": 1,
   "id": "18b7bc0e",
   "metadata": {},
   "outputs": [],
   "source": [
    "import cv2 as cv\n",
    "import numpy as np\n",
    "import mediapipe as mp"
   ]
  },
  {
   "cell_type": "code",
   "execution_count": 2,
   "id": "760d80f0",
   "metadata": {},
   "outputs": [],
   "source": [
    "mp_face_mesh = mp.solutions.face_mesh\n",
    "LEFT_EYE =[362, 382, 381, 380, 374, 373, 390, 249, 263, 466, 388, 387, 386, 385, 384, 398]\n",
    "RIGHT_EYE =[33, 7, 163, 144, 145, 153, 154, 155, 133, 173, 157, 158, 159, 160, 161, 246]\n",
    "LEFT_IRIS = [474, 475, 476, 477]\n",
    "RIGHT_IRIS = [469, 470, 471, 472]"
   ]
  },
  {
   "cell_type": "code",
   "execution_count": 3,
   "id": "9d7baf4e",
   "metadata": {},
   "outputs": [],
   "source": [
    "cap = cv.VideoCapture(0)"
   ]
  },
  {
   "cell_type": "code",
   "execution_count": null,
   "id": "6fe20a48",
   "metadata": {},
   "outputs": [],
   "source": [
    "with mp_face_mesh.FaceMesh(\n",
    "    max_num_faces = 1, \n",
    "    refine_landmarks=True,\n",
    "    min_detection_confidence =0.5,\n",
    "    min_tracking_confidence=0.5\n",
    ") as face_mesh:\n",
    "    while True:\n",
    "        ret, frame = cap.read()\n",
    "        if not ret:\n",
    "            break\n",
    "        frame = cv.flip(frame, 1) # converts camera image into mirror image\n",
    "        rgb_frame = cv.cvtColor(frame, cv.COLOR_BGR2RGB)\n",
    "        img_h, img_w = frame.shape[:2]\n",
    "        results = face_mesh.process(rgb_frame)\n",
    "        if results.multi_face_landmarks:\n",
    "            #print(results.multi_face_landmarks[0].landmark)\n",
    "            #[print(p.x, p.y)for p in results.multi_face_landmarks[0].landmark]\n",
    "            mesh_points =np.array([np.multiply([p.x, p.y], [img_w, img_h]).astype(int) for p in results.multi_face_landmarks[0].landmark])\n",
    "            #print(mesh_points.shape)\n",
    "            #cv.polylines(frame, [mesh_points[LEFT_IRIS]], True, (0,255,0), 1, cv.LINE_AA)\n",
    "            #cv.polylines(frame, [mesh_points[RIGHT_IRIS]], True, (0,255,0), 1, cv.LINE_AA) #eye landmarks, The border around\n",
    "                            # iris is square.\n",
    "            (l_cx, l_cy), l_radius= cv.minEnclosingCircle(mesh_points[LEFT_IRIS])\n",
    "            (r_cx, r_cy), r_radius= cv.minEnclosingCircle(mesh_points[RIGHT_IRIS]) # This will give circular borderline and will\n",
    "                                                                # cover whole of iris.\n",
    "            center_left = np.array([l_cx, l_cy], dtype = np.int32) #L_cx and l_cy, r_cx, r_cy will be converted from floating to\n",
    "                                                            # integral points.\n",
    "            center_right = np.array([r_cx, r_cy], dtype = np.int32)\n",
    "            cv.circle(frame, center_left, int(l_radius), (0,0,255), 1, cv.LINE_AA)\n",
    "            cv.circle(frame, center_right, int(r_radius), (0,0,255), 1, cv.LINE_AA)\n",
    "            \n",
    "                                 \n",
    "        cv.imshow('img', frame)\n",
    "        key = cv.waitKey(1)\n",
    "        if key == ord('q'):\n",
    "            break\n",
    "cap.release()\n",
    "cv.destroyAllWindows()"
   ]
  },
  {
   "cell_type": "code",
   "execution_count": null,
   "id": "5485eea2",
   "metadata": {},
   "outputs": [],
   "source": []
  },
  {
   "cell_type": "code",
   "execution_count": null,
   "id": "77e3e6fc",
   "metadata": {},
   "outputs": [],
   "source": []
  }
 ],
 "metadata": {
  "kernelspec": {
   "display_name": "Python 3 (ipykernel)",
   "language": "python",
   "name": "python3"
  },
  "language_info": {
   "codemirror_mode": {
    "name": "ipython",
    "version": 3
   },
   "file_extension": ".py",
   "mimetype": "text/x-python",
   "name": "python",
   "nbconvert_exporter": "python",
   "pygments_lexer": "ipython3",
   "version": "3.10.9"
  }
 },
 "nbformat": 4,
 "nbformat_minor": 5
}
